{
  "metadata": {
    "kernelspec": {
      "name": "python",
      "display_name": "Python (Pyodide)",
      "language": "python"
    },
    "language_info": {
      "codemirror_mode": {
        "name": "python",
        "version": 3
      },
      "file_extension": ".py",
      "mimetype": "text/x-python",
      "name": "python",
      "nbconvert_exporter": "python",
      "pygments_lexer": "ipython3",
      "version": "3.8"
    }
  },
  "nbformat_minor": 5,
  "nbformat": 4,
  "cells": [
    {
      "id": "c810a3a8-6f93-4f03-90d6-34f2898485d1",
      "cell_type": "markdown",
      "source": "# Data Science Tools and Ecosystem",
      "metadata": {}
    },
    {
      "id": "1a004e98-0c46-4f6d-b99e-c64761a90379",
      "cell_type": "markdown",
      "source": "In this notebook, Data Science Tools and Ecosysem are summurized",
      "metadata": {}
    },
    {
      "id": "af0e2f09-f501-4b6c-82b2-6318b9bc2085",
      "cell_type": "markdown",
      "source": "**Objectives**\n- List of popular languages\n- List of commonly used libraries\n- List of data science tools",
      "metadata": {}
    },
    {
      "id": "c047c26b-97b1-4103-91b1-3fdbc8e9ce87",
      "cell_type": "markdown",
      "source": "Some of the popular languages that data scientists ude are\n1. Python\n2. R\n3. Javascript\n4. C++",
      "metadata": {}
    },
    {
      "id": "1a0f32fe-6f1e-48a1-9059-04f95ba6f238",
      "cell_type": "markdown",
      "source": "Some of the commonly used libraries used by data scientists include \n1. Pandas\n2. Numpy\n3. Matplotlib\n4. Tensorflow\n5. Plotly\n6. Apache Spark\n7. Scikit-learn",
      "metadata": {}
    },
    {
      "id": "a3cff738-74c0-407e-a4ea-5b1d0487630e",
      "cell_type": "markdown",
      "source": "Data Sceince tools\n1. MySQL\n2. MangoDB\n3. Hadoop\n4. Apache Airflow\n5. Apache Kafka\n6. Pixie dust\n7. Tensorflow\n8. Prometheus\n9. Apache Atlas\n10. Git\n11. Rstudio\n12. Jupyter",
      "metadata": {}
    },
    {
      "id": "6427af67-f960-4977-91ba-04bc178783fa",
      "cell_type": "markdown",
      "source": "### Below are few examples of evaluating arithmetic expressions in python",
      "metadata": {}
    },
    {
      "id": "afc4e5cb-7512-48ce-b37a-ab148199d44a",
      "cell_type": "markdown",
      "source": "This is a simple arithmetic expression to multiply then add integers",
      "metadata": {}
    },
    {
      "id": "7fb4ea70-9c58-42b1-9fb2-f31017865462",
      "cell_type": "code",
      "source": "(3*4)+5",
      "metadata": {
        "trusted": true
      },
      "outputs": [
        {
          "execution_count": 5,
          "output_type": "execute_result",
          "data": {
            "text/plain": "17"
          },
          "metadata": {}
        }
      ],
      "execution_count": 5
    },
    {
      "id": "19e58ea5-c4e6-493a-af8d-901a553c81cb",
      "cell_type": "markdown",
      "source": "This will convert 200 minutes to hours by dividing by 60",
      "metadata": {}
    },
    {
      "id": "6369433b-5a9b-4ded-9d4d-8ab0fabb0eda",
      "cell_type": "code",
      "source": "200/60",
      "metadata": {
        "trusted": true
      },
      "outputs": [
        {
          "execution_count": 6,
          "output_type": "execute_result",
          "data": {
            "text/plain": "3.3333333333333335"
          },
          "metadata": {}
        }
      ],
      "execution_count": 6
    },
    {
      "id": "fd9560e2-3a0c-4964-9d24-c03c2531c7bc",
      "cell_type": "markdown",
      "source": "## Author\nEli Mberia",
      "metadata": {}
    },
    {
      "id": "f5fe7400-ff87-4c35-b1ea-2753236affed",
      "cell_type": "code",
      "source": "",
      "metadata": {
        "trusted": true
      },
      "outputs": [],
      "execution_count": null
    }
  ]
}